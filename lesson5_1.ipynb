{
 "cells": [
  {
   "cell_type": "code",
   "execution_count": 1,
   "metadata": {},
   "outputs": [
    {
     "data": {
      "text/plain": [
       "5050"
      ]
     },
     "metadata": {},
     "output_type": "display_data"
    }
   ],
   "source": [
    "n = 0\n",
    "for i in range(1,101):\n",
    "    n += i\n",
    "\n",
    "display(n)"
   ]
  },
  {
   "cell_type": "code",
   "execution_count": 10,
   "metadata": {},
   "outputs": [
    {
     "name": "stdout",
     "output_type": "stream",
     "text": [
      "i=1\n",
      "j=1 2 3 4 5 6 7 8 9 \n",
      "===\n",
      "i=2\n",
      "j=1 2 3 4 5 6 7 8 9 \n",
      "===\n",
      "i=3\n",
      "j=1 2 3 4 5 6 7 8 9 \n",
      "===\n",
      "i=4\n",
      "j=1 2 3 4 5 6 7 8 9 \n",
      "===\n",
      "i=5\n",
      "j=1 2 3 4 5 6 7 8 9 \n",
      "===\n",
      "i=6\n",
      "j=1 2 3 4 5 6 7 8 9 \n",
      "===\n",
      "i=7\n",
      "j=1 2 3 4 5 6 7 8 9 \n",
      "===\n",
      "i=8\n",
      "j=1 2 3 4 5 6 7 8 9 \n",
      "===\n",
      "i=9\n",
      "j=1 2 3 4 5 6 7 8 9 \n",
      "===\n"
     ]
    }
   ],
   "source": [
    "for i in range(1,10):\n",
    "    print(f'i={i}')\n",
    "    print('j=',end='')\n",
    "    for j in range(1,10):\n",
    "        print(f'{j}',end=' ')\n",
    "    print(\"\\n===\")"
   ]
  },
  {
   "cell_type": "code",
   "execution_count": 9,
   "metadata": {},
   "outputs": [
    {
     "name": "stdout",
     "output_type": "stream",
     "text": [
      "1 2 3 4 5 6 7 a b c\n",
      "1_2_3_4_5_6_7_a_b_c\n"
     ]
    }
   ],
   "source": [
    "print(1,2,3,4,5,6,7,'a','b','c')\n",
    "print(1,2,3,4,5,6,7,'a','b','c',sep='_')\n",
    "print(1,2,3,4,5,6,7,'a','b','c',sep='_')"
   ]
  }
 ],
 "metadata": {
  "kernelspec": {
   "display_name": "Python 3",
   "language": "python",
   "name": "python3"
  },
  "language_info": {
   "codemirror_mode": {
    "name": "ipython",
    "version": 3
   },
   "file_extension": ".py",
   "mimetype": "text/x-python",
   "name": "python",
   "nbconvert_exporter": "python",
   "pygments_lexer": "ipython3",
   "version": "3.10.13"
  }
 },
 "nbformat": 4,
 "nbformat_minor": 2
}
