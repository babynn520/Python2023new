{
 "cells": [
  {
   "cell_type": "code",
   "execution_count": 1,
   "metadata": {},
   "outputs": [],
   "source": [
    "stu1 = [78, 92, 65, 86, 74]\n",
    "stu2 = [78, 95, 63, 72, 74]\n",
    "stu3 = [62, 55, 73, 93, 64]\n"
   ]
  },
  {
   "cell_type": "code",
   "execution_count": 2,
   "metadata": {},
   "outputs": [
    {
     "data": {
      "text/plain": [
       "[[78, 92, 65, 86, 74], [78, 95, 63, 72, 74], [62, 55, 73, 93, 64]]"
      ]
     },
     "execution_count": 2,
     "metadata": {},
     "output_type": "execute_result"
    }
   ],
   "source": [
    "students = [stu1, stu2, stu3]\n",
    "students"
   ]
  },
  {
   "cell_type": "code",
   "execution_count": 3,
   "metadata": {},
   "outputs": [
    {
     "data": {
      "text/plain": [
       "[[78, 92, 65, 86, 74], [78, 95, 63, 72, 74], [62, 55, 73, 93, 64]]"
      ]
     },
     "execution_count": 3,
     "metadata": {},
     "output_type": "execute_result"
    }
   ],
   "source": [
    "students = list()\n",
    "students.append(stu1)\n",
    "students.append(stu2)\n",
    "students.append(stu3)\n",
    "students"
   ]
  },
  {
   "cell_type": "code",
   "execution_count": 4,
   "metadata": {},
   "outputs": [
    {
     "data": {
      "text/plain": [
       "[88, 55, 53, 86, 91]"
      ]
     },
     "execution_count": 4,
     "metadata": {},
     "output_type": "execute_result"
    }
   ],
   "source": [
    "#建立一個學生的5個分數\n",
    "import random\n",
    "stu = []\n",
    "for _ in range(5):    \n",
    "    score = random.randint(50,100)\n",
    "    stu.append(score)\n",
    "\n",
    "stu"
   ]
  },
  {
   "cell_type": "code",
   "execution_count": 5,
   "metadata": {},
   "outputs": [
    {
     "data": {
      "text/plain": [
       "[[68, 93, 71, 62, 87],\n",
       " [85, 58, 75, 68, 79],\n",
       " [57, 90, 61, 90, 51],\n",
       " [53, 100, 63, 96, 63],\n",
       " [81, 54, 70, 76, 83],\n",
       " [81, 89, 100, 50, 90],\n",
       " [84, 78, 68, 60, 62],\n",
       " [57, 80, 62, 66, 100],\n",
       " [89, 74, 73, 75, 90],\n",
       " [70, 91, 54, 100, 89],\n",
       " [76, 62, 94, 77, 73],\n",
       " [63, 55, 55, 64, 78],\n",
       " [72, 97, 74, 69, 99],\n",
       " [94, 87, 95, 82, 81],\n",
       " [55, 87, 85, 93, 97],\n",
       " [89, 65, 57, 92, 74],\n",
       " [81, 58, 69, 67, 89],\n",
       " [91, 82, 76, 54, 85],\n",
       " [94, 56, 94, 71, 91],\n",
       " [75, 64, 57, 72, 74],\n",
       " [69, 96, 62, 75, 87],\n",
       " [92, 94, 87, 55, 50],\n",
       " [51, 68, 73, 62, 82],\n",
       " [100, 80, 58, 70, 82],\n",
       " [60, 96, 51, 75, 97],\n",
       " [96, 66, 83, 91, 70],\n",
       " [83, 62, 74, 78, 58],\n",
       " [68, 97, 87, 68, 88],\n",
       " [63, 50, 65, 54, 87],\n",
       " [81, 91, 61, 66, 55],\n",
       " [84, 70, 97, 97, 70],\n",
       " [88, 82, 92, 93, 68],\n",
       " [87, 56, 84, 67, 69],\n",
       " [74, 70, 99, 56, 52],\n",
       " [72, 61, 89, 80, 76],\n",
       " [55, 95, 94, 81, 84],\n",
       " [66, 65, 53, 87, 87],\n",
       " [98, 99, 65, 84, 94],\n",
       " [91, 56, 98, 75, 52],\n",
       " [63, 65, 86, 59, 67],\n",
       " [57, 60, 93, 83, 90],\n",
       " [85, 78, 95, 84, 64],\n",
       " [85, 95, 64, 69, 79],\n",
       " [51, 81, 76, 55, 92],\n",
       " [93, 71, 72, 54, 92],\n",
       " [71, 50, 70, 90, 98],\n",
       " [100, 94, 54, 81, 58],\n",
       " [93, 60, 56, 65, 92],\n",
       " [77, 72, 87, 82, 74],\n",
       " [70, 96, 63, 94, 85]]"
      ]
     },
     "execution_count": 5,
     "metadata": {},
     "output_type": "execute_result"
    }
   ],
   "source": [
    "#建立一個學生的5個分數\n",
    "#建立50個學生\n",
    "\n",
    "students = []\n",
    "for _ in range(50):\n",
    "    stu = []\n",
    "    for _ in range(5):    \n",
    "        score = random.randint(50,100)\n",
    "        stu.append(score)\n",
    "    students.append(stu)\n",
    "\n",
    "students"
   ]
  },
  {
   "cell_type": "code",
   "execution_count": 9,
   "metadata": {},
   "outputs": [
    {
     "data": {
      "text/plain": [
       "[[81, 71, 90, 70, 52],\n",
       " [54, 72, 99, 52, 54],\n",
       " [60, 98, 87, 83, 78],\n",
       " [90, 75, 76, 66, 98],\n",
       " [76, 74, 56, 81, 51],\n",
       " [94, 91, 75, 87, 90],\n",
       " [100, 82, 59, 58, 85],\n",
       " [96, 94, 84, 51, 96],\n",
       " [63, 53, 81, 95, 53],\n",
       " [92, 91, 70, 67, 68],\n",
       " [74, 81, 92, 83, 93],\n",
       " [73, 69, 62, 77, 94],\n",
       " [59, 84, 66, 71, 52],\n",
       " [90, 84, 61, 59, 88],\n",
       " [100, 99, 57, 52, 85],\n",
       " [76, 50, 94, 63, 66],\n",
       " [50, 52, 100, 71, 64],\n",
       " [64, 50, 76, 88, 81],\n",
       " [68, 61, 84, 69, 95],\n",
       " [50, 58, 86, 95, 58],\n",
       " [83, 93, 64, 60, 79],\n",
       " [99, 90, 82, 87, 64],\n",
       " [83, 64, 89, 74, 70],\n",
       " [78, 53, 76, 69, 91],\n",
       " [63, 82, 64, 87, 63],\n",
       " [91, 50, 53, 74, 94],\n",
       " [62, 93, 97, 88, 72],\n",
       " [81, 71, 95, 51, 50],\n",
       " [60, 66, 72, 78, 93],\n",
       " [75, 64, 93, 99, 63],\n",
       " [82, 91, 75, 88, 55],\n",
       " [73, 94, 74, 89, 66],\n",
       " [70, 71, 90, 75, 60],\n",
       " [92, 72, 95, 100, 83],\n",
       " [83, 100, 92, 97, 53],\n",
       " [59, 100, 54, 87, 93],\n",
       " [50, 65, 67, 88, 54],\n",
       " [78, 96, 61, 56, 62],\n",
       " [72, 81, 61, 78, 59],\n",
       " [60, 97, 53, 93, 92],\n",
       " [77, 75, 96, 75, 90],\n",
       " [57, 93, 92, 93, 83],\n",
       " [60, 97, 84, 82, 66],\n",
       " [87, 96, 56, 94, 80],\n",
       " [79, 97, 90, 54, 73],\n",
       " [56, 76, 80, 55, 61],\n",
       " [88, 91, 81, 62, 51],\n",
       " [96, 92, 75, 98, 64],\n",
       " [76, 94, 51, 59, 82],\n",
       " [89, 56, 76, 85, 53]]"
      ]
     },
     "execution_count": 9,
     "metadata": {},
     "output_type": "execute_result"
    }
   ],
   "source": [
    "import random\n",
    "def createStudent()->list[int]:\n",
    "    stu = []\n",
    "    for _ in range(5):    \n",
    "        score = random.randint(50,100)\n",
    "        stu.append(score)\n",
    "    return stu\n",
    "\n",
    "\n",
    "classes = []\n",
    "for _ in range(50):\n",
    "    stu = createStudent()\n",
    "    classes.append(stu)\n",
    "classes\n",
    "\n"
   ]
  }
 ],
 "metadata": {
  "kernelspec": {
   "display_name": "Python 3",
   "language": "python",
   "name": "python3"
  },
  "language_info": {
   "codemirror_mode": {
    "name": "ipython",
    "version": 3
   },
   "file_extension": ".py",
   "mimetype": "text/x-python",
   "name": "python",
   "nbconvert_exporter": "python",
   "pygments_lexer": "ipython3",
   "version": "3.10.13"
  }
 },
 "nbformat": 4,
 "nbformat_minor": 2
}
