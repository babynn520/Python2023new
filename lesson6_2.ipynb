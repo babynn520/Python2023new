{
 "cells": [
  {
   "cell_type": "code",
   "execution_count": 1,
   "metadata": {},
   "outputs": [
    {
     "name": "stdout",
     "output_type": "stream",
     "text": [
      "1\n",
      "2\n",
      "3\n",
      "4\n",
      "5\n",
      "6\n",
      "7\n",
      "8\n",
      "9\n",
      "10\n"
     ]
    }
   ],
   "source": [
    "import random\n",
    "\n",
    "n = 1\n",
    "while n<=10:\n",
    "    print(n)\n",
    "    n += 1"
   ]
  },
  {
   "cell_type": "code",
   "execution_count": 2,
   "metadata": {},
   "outputs": [
    {
     "name": "stdout",
     "output_type": "stream",
     "text": [
      "1\n",
      "10\n",
      "18\n",
      "23\n",
      "32\n",
      "38\n",
      "40\n",
      "43\n",
      "46\n",
      "48\n",
      "54\n",
      "56\n",
      "66\n",
      "73\n",
      "74\n",
      "82\n",
      "86\n",
      "90\n",
      "98\n"
     ]
    }
   ],
   "source": [
    "import random\n",
    "n = 1\n",
    "while n<=100:\n",
    "    print(n)\n",
    "    n += random.randint(1,10)"
   ]
  },
  {
   "cell_type": "code",
   "execution_count": null,
   "metadata": {},
   "outputs": [],
   "source": [
    "#奇數輸出平方\n",
    "#偶數輸出原來的值\n",
    "#'q'離開"
   ]
  },
  {
   "cell_type": "code",
   "execution_count": 3,
   "metadata": {},
   "outputs": [
    {
     "name": "stdout",
     "output_type": "stream",
     "text": [
      "應用程式結束\n"
     ]
    }
   ],
   "source": [
    "while True:\n",
    "    value = input(\"請輸入整數,輸入(q)離開:\")\n",
    "    if value == \"q\":\n",
    "        break    \n",
    "    value = int(value)\n",
    "    if value % 2 == 1:\n",
    "        print(value ** 2)\n",
    "    else:\n",
    "        print(value)\n",
    "print(\"應用程式結束\")"
   ]
  },
  {
   "cell_type": "code",
   "execution_count": 5,
   "metadata": {},
   "outputs": [
    {
     "ename": "ValueError",
     "evalue": "invalid literal for int() with base 10: ''",
     "output_type": "error",
     "traceback": [
      "\u001b[0;31m---------------------------------------------------------------------------\u001b[0m",
      "\u001b[0;31mValueError\u001b[0m                                Traceback (most recent call last)",
      "\u001b[1;32m/workspaces/Python2023new/lesson6_2.ipynb Cell 5\u001b[0m line \u001b[0;36m6\n\u001b[1;32m      <a href='vscode-notebook-cell://codespaces%2Borange-space-enigma-r4gjr959vw49cwjw4/workspaces/Python2023new/lesson6_2.ipynb#W4sdnNjb2RlLXJlbW90ZQ%3D%3D?line=3'>4</a>\u001b[0m num \u001b[39m=\u001b[39m \u001b[39m0\u001b[39m\n\u001b[1;32m      <a href='vscode-notebook-cell://codespaces%2Borange-space-enigma-r4gjr959vw49cwjw4/workspaces/Python2023new/lesson6_2.ipynb#W4sdnNjb2RlLXJlbW90ZQ%3D%3D?line=4'>5</a>\u001b[0m \u001b[39mwhile\u001b[39;00m(\u001b[39mTrue\u001b[39;00m):     \n\u001b[0;32m----> <a href='vscode-notebook-cell://codespaces%2Borange-space-enigma-r4gjr959vw49cwjw4/workspaces/Python2023new/lesson6_2.ipynb#W4sdnNjb2RlLXJlbW90ZQ%3D%3D?line=5'>6</a>\u001b[0m     value \u001b[39m=\u001b[39m \u001b[39mint\u001b[39;49m(\u001b[39minput\u001b[39;49m(\u001b[39mf\u001b[39;49m\u001b[39m\"\u001b[39;49m\u001b[39m請輸入第\u001b[39;49m\u001b[39m{\u001b[39;49;00mnum\u001b[39m+\u001b[39;49m\u001b[39m1\u001b[39;49m\u001b[39m}\u001b[39;49;00m\u001b[39m數值:\u001b[39;49m\u001b[39m\"\u001b[39;49m))   \n\u001b[1;32m      <a href='vscode-notebook-cell://codespaces%2Borange-space-enigma-r4gjr959vw49cwjw4/workspaces/Python2023new/lesson6_2.ipynb#W4sdnNjb2RlLXJlbW90ZQ%3D%3D?line=6'>7</a>\u001b[0m     \u001b[39mif\u001b[39;00m value \u001b[39m<\u001b[39m \u001b[39m0\u001b[39m:\n\u001b[1;32m      <a href='vscode-notebook-cell://codespaces%2Borange-space-enigma-r4gjr959vw49cwjw4/workspaces/Python2023new/lesson6_2.ipynb#W4sdnNjb2RlLXJlbW90ZQ%3D%3D?line=7'>8</a>\u001b[0m         \u001b[39mbreak\u001b[39;00m\n",
      "\u001b[0;31mValueError\u001b[0m: invalid literal for int() with base 10: ''"
     ]
    }
   ],
   "source": [
    "#請設計一個程式，讓使用者輸入數值，只有加總正偶數值，不加總正奇數值，如果輸入負數，結束程式。\n",
    "\n",
    "total = 0\n",
    "num = 0\n",
    "while(True):     \n",
    "    value = int(input(f\"請輸入第{num+1}數值:\"))   \n",
    "    if value < 0:\n",
    "        break\n",
    "        print(\"break之後\")\n",
    "    elif value % 2 == 1:\n",
    "        num += 1\n",
    "        continue\n",
    "        print(\"continue之後\")\n",
    "    else:\n",
    "        num += 1\n",
    "        total += value\n",
    "    \n",
    "    \n",
    "print(\"應用程式結束\")\n",
    "print(f\"總共執行{num}\")\n",
    "print(total)"
   ]
  },
  {
   "cell_type": "code",
   "execution_count": null,
   "metadata": {},
   "outputs": [],
   "source": []
  }
 ],
 "metadata": {
  "kernelspec": {
   "display_name": "Python 3",
   "language": "python",
   "name": "python3"
  },
  "language_info": {
   "codemirror_mode": {
    "name": "ipython",
    "version": 3
   },
   "file_extension": ".py",
   "mimetype": "text/x-python",
   "name": "python",
   "nbconvert_exporter": "python",
   "pygments_lexer": "ipython3",
   "version": "3.10.13"
  }
 },
 "nbformat": 4,
 "nbformat_minor": 2
}
