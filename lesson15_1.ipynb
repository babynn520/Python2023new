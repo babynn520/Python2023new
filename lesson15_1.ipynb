{
 "cells": [
  {
   "cell_type": "code",
   "execution_count": 1,
   "metadata": {},
   "outputs": [
    {
     "ename": "ModuleNotFoundError",
     "evalue": "No module named 'openpyxl'",
     "output_type": "error",
     "traceback": [
      "\u001b[0;31m---------------------------------------------------------------------------\u001b[0m",
      "\u001b[0;31mModuleNotFoundError\u001b[0m                       Traceback (most recent call last)",
      "\u001b[1;32m/workspaces/Python2023new/lesson15_1.ipynb Cell 1\u001b[0m line \u001b[0;36m3\n\u001b[1;32m      <a href='vscode-notebook-cell://codespaces%2Borange-space-enigma-r4gjr959vw49cwjw4/workspaces/Python2023new/lesson15_1.ipynb#W0sdnNjb2RlLXJlbW90ZQ%3D%3D?line=0'>1</a>\u001b[0m \u001b[39mimport\u001b[39;00m \u001b[39mnumpy\u001b[39;00m \u001b[39mas\u001b[39;00m \u001b[39mnp\u001b[39;00m\n\u001b[1;32m      <a href='vscode-notebook-cell://codespaces%2Borange-space-enigma-r4gjr959vw49cwjw4/workspaces/Python2023new/lesson15_1.ipynb#W0sdnNjb2RlLXJlbW90ZQ%3D%3D?line=1'>2</a>\u001b[0m \u001b[39mimport\u001b[39;00m \u001b[39mpandas\u001b[39;00m \u001b[39mas\u001b[39;00m \u001b[39mpd\u001b[39;00m\n\u001b[0;32m----> <a href='vscode-notebook-cell://codespaces%2Borange-space-enigma-r4gjr959vw49cwjw4/workspaces/Python2023new/lesson15_1.ipynb#W0sdnNjb2RlLXJlbW90ZQ%3D%3D?line=2'>3</a>\u001b[0m \u001b[39mfrom\u001b[39;00m \u001b[39mopenpyxl\u001b[39;00m \u001b[39mimport\u001b[39;00m Workbook\n\u001b[1;32m      <a href='vscode-notebook-cell://codespaces%2Borange-space-enigma-r4gjr959vw49cwjw4/workspaces/Python2023new/lesson15_1.ipynb#W0sdnNjb2RlLXJlbW90ZQ%3D%3D?line=3'>4</a>\u001b[0m \u001b[39mimport\u001b[39;00m \u001b[39mpyinputplus\u001b[39;00m \u001b[39mas\u001b[39;00m \u001b[39mpyip\u001b[39;00m\n\u001b[1;32m      <a href='vscode-notebook-cell://codespaces%2Borange-space-enigma-r4gjr959vw49cwjw4/workspaces/Python2023new/lesson15_1.ipynb#W0sdnNjb2RlLXJlbW90ZQ%3D%3D?line=4'>5</a>\u001b[0m \u001b[39mfrom\u001b[39;00m \u001b[39mpandas\u001b[39;00m\u001b[39m.\u001b[39;00m\u001b[39mio\u001b[39;00m\u001b[39m.\u001b[39;00m\u001b[39mformats\u001b[39;00m\u001b[39m.\u001b[39;00m\u001b[39mexcel\u001b[39;00m \u001b[39mimport\u001b[39;00m ExcelFormatter\n",
      "\u001b[0;31mModuleNotFoundError\u001b[0m: No module named 'openpyxl'"
     ]
    }
   ],
   "source": [
    "import numpy as np\n",
    "import pandas as pd\n",
    "from openpyxl import Workbook\n",
    "import pyinputplus as pyip\n",
    "from pandas.io.formats.excel import ExcelFormatter\n",
    "from pandas.io.excel._base import ExcelWriter\n",
    "\n",
    "def generate_class_scores(num_classes:int,file_name:str) -> None:\n",
    "    '''\n",
    "    param:num_classes,是班級數量\n",
    "    param:file_name,自訂檔名,使用者要輸入副檔名xlsx\n",
    "\n",
    "    1.建立新檔\n",
    "    2.已經有新檔則覆蓋原來的檔案\n",
    "    '''\n",
    "    # 創建一個空的 Excel 工作簿\n",
    "    wb = Workbook()\n",
    "    \n",
    "    # 將 Excel 工作簿保存為一個文件\n",
    "    excel_path = file_name\n",
    "\n",
    "    with ExcelWriter(excel_path, engine='openpyxl') as writer:\n",
    "        for i in range(1, num_classes + 1):\n",
    "            # 生成隨機分數\n",
    "            scores = np.random.randint(0, 100, size=(3, 5))\n",
    "            scores_df = pd.DataFrame(scores,\n",
    "                                     columns=['國文', '英文', '數學', '地理', '歷史'],\n",
    "                                     index=range(1, 4))\n",
    "\n",
    "            # 計算總分和平均\n",
    "            sum_values = scores_df.sum(axis=1)\n",
    "            mean_values = scores_df.mean(axis=1)\n",
    "            scores_df['總分'] = sum_values\n",
    "            scores_df['平均'] = mean_values\n",
    "\n",
    "            # 格式化和高亮\n",
    "            pdstyle = scores_df.style \\\n",
    "                .highlight_between(left=0, right=59, props='color:white; background-color:#CB1B45;') \\\n",
    "                .highlight_max(axis=1, subset=scores_df.columns[:5], props='color:white; background-color:#2B5F75')\n",
    "\n",
    "            # 將分數表寫入 Excel 工作簿的一個 sheet 中\n",
    "            sheet_name = f'3年{i}班'\n",
    "            pdstyle.to_excel(writer, sheet_name=sheet_name, index=False, engine='openpyxl')\n",
    "\n",
    "# 輸入班級數量\n",
    "if __name__ == \"__main__\":\n",
    "    num_classes = pyip.inputInt(\"請輸入班級數量(1~5):\")     \n",
    "    file_name = pyip.inputFilename(\"請輸入存檔名稱(xlsx):\")\n",
    "    generate_class_scores(num_classes,file_name)\n",
    "    print(f\"{file_name}已經產生\")"
   ]
  }
 ],
 "metadata": {
  "kernelspec": {
   "display_name": "Python 3",
   "language": "python",
   "name": "python3"
  },
  "language_info": {
   "codemirror_mode": {
    "name": "ipython",
    "version": 3
   },
   "file_extension": ".py",
   "mimetype": "text/x-python",
   "name": "python",
   "nbconvert_exporter": "python",
   "pygments_lexer": "ipython3",
   "version": "3.10.13"
  }
 },
 "nbformat": 4,
 "nbformat_minor": 2
}
