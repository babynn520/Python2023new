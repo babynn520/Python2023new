{
 "cells": [
  {
   "cell_type": "code",
   "execution_count": 1,
   "metadata": {},
   "outputs": [],
   "source": [
    "stu1 = [78, 92, 65, 86, 74]\n",
    "stu2 = [78, 95, 63, 72, 74]\n",
    "stu3 = [62, 55, 73, 93, 64]\n"
   ]
  },
  {
   "cell_type": "code",
   "execution_count": 2,
   "metadata": {},
   "outputs": [
    {
     "data": {
      "text/plain": [
       "[[78, 92, 65, 86, 74], [78, 95, 63, 72, 74], [62, 55, 73, 93, 64]]"
      ]
     },
     "execution_count": 2,
     "metadata": {},
     "output_type": "execute_result"
    }
   ],
   "source": [
    "students = [stu1, stu2, stu3]\n",
    "students"
   ]
  },
  {
   "cell_type": "code",
   "execution_count": 3,
   "metadata": {},
   "outputs": [
    {
     "data": {
      "text/plain": [
       "[[78, 92, 65, 86, 74], [78, 95, 63, 72, 74], [62, 55, 73, 93, 64]]"
      ]
     },
     "execution_count": 3,
     "metadata": {},
     "output_type": "execute_result"
    }
   ],
   "source": [
    "students = list()\n",
    "students.append(stu1)\n",
    "students.append(stu2)\n",
    "students.append(stu3)\n",
    "students"
   ]
  },
  {
   "cell_type": "code",
   "execution_count": 4,
   "metadata": {},
   "outputs": [
    {
     "data": {
      "text/plain": [
       "[88, 55, 53, 86, 91]"
      ]
     },
     "execution_count": 4,
     "metadata": {},
     "output_type": "execute_result"
    }
   ],
   "source": [
    "#建立一個學生的5個分數\n",
    "import random\n",
    "stu = []\n",
    "for _ in range(5):    \n",
    "    score = random.randint(50,100)\n",
    "    stu.append(score)\n",
    "\n",
    "stu"
   ]
  },
  {
   "cell_type": "code",
   "execution_count": 5,
   "metadata": {},
   "outputs": [
    {
     "data": {
      "text/plain": [
       "[[68, 93, 71, 62, 87],\n",
       " [85, 58, 75, 68, 79],\n",
       " [57, 90, 61, 90, 51],\n",
       " [53, 100, 63, 96, 63],\n",
       " [81, 54, 70, 76, 83],\n",
       " [81, 89, 100, 50, 90],\n",
       " [84, 78, 68, 60, 62],\n",
       " [57, 80, 62, 66, 100],\n",
       " [89, 74, 73, 75, 90],\n",
       " [70, 91, 54, 100, 89],\n",
       " [76, 62, 94, 77, 73],\n",
       " [63, 55, 55, 64, 78],\n",
       " [72, 97, 74, 69, 99],\n",
       " [94, 87, 95, 82, 81],\n",
       " [55, 87, 85, 93, 97],\n",
       " [89, 65, 57, 92, 74],\n",
       " [81, 58, 69, 67, 89],\n",
       " [91, 82, 76, 54, 85],\n",
       " [94, 56, 94, 71, 91],\n",
       " [75, 64, 57, 72, 74],\n",
       " [69, 96, 62, 75, 87],\n",
       " [92, 94, 87, 55, 50],\n",
       " [51, 68, 73, 62, 82],\n",
       " [100, 80, 58, 70, 82],\n",
       " [60, 96, 51, 75, 97],\n",
       " [96, 66, 83, 91, 70],\n",
       " [83, 62, 74, 78, 58],\n",
       " [68, 97, 87, 68, 88],\n",
       " [63, 50, 65, 54, 87],\n",
       " [81, 91, 61, 66, 55],\n",
       " [84, 70, 97, 97, 70],\n",
       " [88, 82, 92, 93, 68],\n",
       " [87, 56, 84, 67, 69],\n",
       " [74, 70, 99, 56, 52],\n",
       " [72, 61, 89, 80, 76],\n",
       " [55, 95, 94, 81, 84],\n",
       " [66, 65, 53, 87, 87],\n",
       " [98, 99, 65, 84, 94],\n",
       " [91, 56, 98, 75, 52],\n",
       " [63, 65, 86, 59, 67],\n",
       " [57, 60, 93, 83, 90],\n",
       " [85, 78, 95, 84, 64],\n",
       " [85, 95, 64, 69, 79],\n",
       " [51, 81, 76, 55, 92],\n",
       " [93, 71, 72, 54, 92],\n",
       " [71, 50, 70, 90, 98],\n",
       " [100, 94, 54, 81, 58],\n",
       " [93, 60, 56, 65, 92],\n",
       " [77, 72, 87, 82, 74],\n",
       " [70, 96, 63, 94, 85]]"
      ]
     },
     "execution_count": 5,
     "metadata": {},
     "output_type": "execute_result"
    }
   ],
   "source": [
    "#建立一個學生的5個分數\n",
    "#建立50個學生\n",
    "\n",
    "students = []\n",
    "for _ in range(50):\n",
    "    stu = []\n",
    "    for _ in range(5):    \n",
    "        score = random.randint(50,100)\n",
    "        stu.append(score)\n",
    "    students.append(stu)\n",
    "\n",
    "students"
   ]
  }
 ],
 "metadata": {
  "kernelspec": {
   "display_name": "Python 3",
   "language": "python",
   "name": "python3"
  },
  "language_info": {
   "codemirror_mode": {
    "name": "ipython",
    "version": 3
   },
   "file_extension": ".py",
   "mimetype": "text/x-python",
   "name": "python",
   "nbconvert_exporter": "python",
   "pygments_lexer": "ipython3",
   "version": "3.10.13"
  }
 },
 "nbformat": 4,
 "nbformat_minor": 2
}
